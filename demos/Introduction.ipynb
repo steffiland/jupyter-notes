{
 "cells": [
  {
   "cell_type": "markdown",
   "id": "91766632",
   "metadata": {},
   "source": [
    "## Intro\n",
    "Dieses Notebook basiert auf \n",
    "* Einstiegstutorial: https://www.dataquest.io/blog/jupyter-notebook-tutorial/\n",
    "* Fortgeschrittenem https://www.dataquest.io/blog/advanced-jupyter-notebooks-tutorial/"
   ]
  },
  {
   "cell_type": "code",
   "execution_count": 1,
   "id": "cb8f73bd",
   "metadata": {},
   "outputs": [
    {
     "data": {
      "application/javascript": [
       "IPython.notebook.set_autosave_interval(120000)"
      ]
     },
     "metadata": {},
     "output_type": "display_data"
    },
    {
     "name": "stdout",
     "output_type": "stream",
     "text": [
      "Autosaving every 120 seconds\n"
     ]
    }
   ],
   "source": [
    "%autosave 120\n"
   ]
  },
  {
   "cell_type": "markdown",
   "id": "5f24c3a8",
   "metadata": {},
   "source": [
    "## TOC\n",
    "* [Intro](#Intro)\n",
    "* [Shortcuts](#Shortcuts)"
   ]
  },
  {
   "cell_type": "markdown",
   "id": "5c3e7918",
   "metadata": {},
   "source": [
    "## Shortcuts\n",
    "\n",
    "* eine Zelle ausführen: Strg + Enter\n",
    "* Toggle between edit and command mode with `Esc` and `Enter`, respectively.\n",
    "* Once in command mode:\n",
    "  * Scroll up and down your cells with your Up and Down keys.\n",
    "  * Press `A` or `B` to insert a new cell above or below the active cell.\n",
    "  * M will transform the active cell to a Markdown cell.\n",
    "  * Y will set the active cell to a code cell.\n",
    "  * D + D (D twice) will delete the active cell.\n",
    "  * P will open a menu with all commands\n",
    "  * Z will undo cell deletion.\n",
    "  * Hold Shift and press Up or Down to select multiple cells at once. With multiple cells selected, Shift + M will merge your selection.\n",
    "  * Ctrl + Shift + -, in edit mode, will split the active cell at the cursor.\n",
    "  * You can also click and Shift + Click in the margin to the left of your cells to select them"
   ]
  },
  {
   "cell_type": "code",
   "execution_count": 2,
   "id": "c0748b5a",
   "metadata": {},
   "outputs": [
    {
     "name": "stdout",
     "output_type": "stream",
     "text": [
      "hello world\n"
     ]
    }
   ],
   "source": [
    "print(\"hello world\")"
   ]
  },
  {
   "cell_type": "markdown",
   "id": "57635309",
   "metadata": {},
   "source": [
    "### Shell-Befehle\n",
    "beginnen mit Ausrufezeichen:"
   ]
  },
  {
   "cell_type": "code",
   "execution_count": 3,
   "id": "a94faacf",
   "metadata": {},
   "outputs": [
    {
     "name": "stdout",
     "output_type": "stream",
     "text": [
      "pandas==1.4.2\n",
      "bla\n"
     ]
    }
   ],
   "source": [
    "!pip freeze | grep pandas\n",
    "!echo bla"
   ]
  },
  {
   "cell_type": "markdown",
   "id": "bd6a6f75",
   "metadata": {},
   "source": [
    "### CSV Datenquellen\n",
    "lokale Dateien, die \"neben\" dem  Notebook liegen oder externer statischer HTTP-Content:"
   ]
  },
  {
   "cell_type": "code",
   "execution_count": 4,
   "id": "3f2ba114",
   "metadata": {},
   "outputs": [
    {
     "name": "stdout",
     "output_type": "stream",
     "text": [
      "               alpha-2 alpha-3  country-code     iso_3166-2   region  \\\n",
      "name                                                                   \n",
      "Afghanistan         AF     AFG             4  ISO 3166-2:AF     Asia   \n",
      "Åland Islands       AX     ALA           248  ISO 3166-2:AX   Europe   \n",
      "Albania             AL     ALB             8  ISO 3166-2:AL   Europe   \n",
      "Algeria             DZ     DZA            12  ISO 3166-2:DZ   Africa   \n",
      "American Samoa      AS     ASM            16  ISO 3166-2:AS  Oceania   \n",
      "\n",
      "                     sub-region intermediate-region  region-code  \\\n",
      "name                                                               \n",
      "Afghanistan       Southern Asia                 NaN        142.0   \n",
      "Åland Islands   Northern Europe                 NaN        150.0   \n",
      "Albania         Southern Europe                 NaN        150.0   \n",
      "Algeria         Northern Africa                 NaN          2.0   \n",
      "American Samoa        Polynesia                 NaN          9.0   \n",
      "\n",
      "                sub-region-code  intermediate-region-code  \n",
      "name                                                       \n",
      "Afghanistan                34.0                       NaN  \n",
      "Åland Islands             154.0                       NaN  \n",
      "Albania                    39.0                       NaN  \n",
      "Algeria                    15.0                       NaN  \n",
      "American Samoa             61.0                       NaN  \n"
     ]
    }
   ],
   "source": [
    "import pandas as pd\n",
    "\n",
    "url = 'https://raw.githubusercontent.com/lukes/ISO-3166-Countries-with-Regional-Codes/master/all/all.csv'\n",
    "df = pd.read_csv(url, index_col=0)\n",
    "print(df.head(5))"
   ]
  },
  {
   "cell_type": "markdown",
   "id": "fa2f42eb",
   "metadata": {},
   "source": [
    "### Line Magics\n",
    "\n",
    "Verfügbare Magics anzeigen: ` %lsmagic `\n",
    "Hilfe zu einer Magic: Fragezeichen anhängen, z.B. `%matplotlib?`"
   ]
  },
  {
   "cell_type": "code",
   "execution_count": 5,
   "id": "c63a91a1",
   "metadata": {},
   "outputs": [
    {
     "data": {
      "application/json": {
       "cell": {
        "!": "OSMagics",
        "HTML": "Other",
        "SVG": "Other",
        "bash": "Other",
        "capture": "ExecutionMagics",
        "debug": "ExecutionMagics",
        "file": "Other",
        "html": "DisplayMagics",
        "javascript": "DisplayMagics",
        "js": "DisplayMagics",
        "latex": "DisplayMagics",
        "markdown": "DisplayMagics",
        "perl": "Other",
        "prun": "ExecutionMagics",
        "pypy": "Other",
        "python": "Other",
        "python2": "Other",
        "python3": "Other",
        "ruby": "Other",
        "script": "ScriptMagics",
        "sh": "Other",
        "svg": "DisplayMagics",
        "sx": "OSMagics",
        "system": "OSMagics",
        "time": "ExecutionMagics",
        "timeit": "ExecutionMagics",
        "writefile": "OSMagics"
       },
       "line": {
        "alias": "OSMagics",
        "alias_magic": "BasicMagics",
        "autoawait": "AsyncMagics",
        "autocall": "AutoMagics",
        "automagic": "AutoMagics",
        "autosave": "KernelMagics",
        "bookmark": "OSMagics",
        "cat": "Other",
        "cd": "OSMagics",
        "clear": "KernelMagics",
        "colors": "BasicMagics",
        "conda": "PackagingMagics",
        "config": "ConfigMagics",
        "connect_info": "KernelMagics",
        "cp": "Other",
        "debug": "ExecutionMagics",
        "dhist": "OSMagics",
        "dirs": "OSMagics",
        "doctest_mode": "BasicMagics",
        "ed": "Other",
        "edit": "KernelMagics",
        "env": "OSMagics",
        "gui": "BasicMagics",
        "hist": "Other",
        "history": "HistoryMagics",
        "killbgscripts": "ScriptMagics",
        "ldir": "Other",
        "less": "KernelMagics",
        "lf": "Other",
        "lk": "Other",
        "ll": "Other",
        "load": "CodeMagics",
        "load_ext": "ExtensionMagics",
        "loadpy": "CodeMagics",
        "logoff": "LoggingMagics",
        "logon": "LoggingMagics",
        "logstart": "LoggingMagics",
        "logstate": "LoggingMagics",
        "logstop": "LoggingMagics",
        "ls": "Other",
        "lsmagic": "BasicMagics",
        "lx": "Other",
        "macro": "ExecutionMagics",
        "magic": "BasicMagics",
        "man": "KernelMagics",
        "matplotlib": "PylabMagics",
        "mkdir": "Other",
        "more": "KernelMagics",
        "mv": "Other",
        "notebook": "BasicMagics",
        "page": "BasicMagics",
        "pastebin": "CodeMagics",
        "pdb": "ExecutionMagics",
        "pdef": "NamespaceMagics",
        "pdoc": "NamespaceMagics",
        "pfile": "NamespaceMagics",
        "pinfo": "NamespaceMagics",
        "pinfo2": "NamespaceMagics",
        "pip": "PackagingMagics",
        "popd": "OSMagics",
        "pprint": "BasicMagics",
        "precision": "BasicMagics",
        "prun": "ExecutionMagics",
        "psearch": "NamespaceMagics",
        "psource": "NamespaceMagics",
        "pushd": "OSMagics",
        "pwd": "OSMagics",
        "pycat": "OSMagics",
        "pylab": "PylabMagics",
        "qtconsole": "KernelMagics",
        "quickref": "BasicMagics",
        "recall": "HistoryMagics",
        "rehashx": "OSMagics",
        "reload_ext": "ExtensionMagics",
        "rep": "Other",
        "rerun": "HistoryMagics",
        "reset": "NamespaceMagics",
        "reset_selective": "NamespaceMagics",
        "rm": "Other",
        "rmdir": "Other",
        "run": "ExecutionMagics",
        "save": "CodeMagics",
        "sc": "OSMagics",
        "set_env": "OSMagics",
        "store": "StoreMagics",
        "sx": "OSMagics",
        "system": "OSMagics",
        "tb": "ExecutionMagics",
        "time": "ExecutionMagics",
        "timeit": "ExecutionMagics",
        "unalias": "OSMagics",
        "unload_ext": "ExtensionMagics",
        "who": "NamespaceMagics",
        "who_ls": "NamespaceMagics",
        "whos": "NamespaceMagics",
        "xdel": "NamespaceMagics",
        "xmode": "BasicMagics"
       }
      },
      "text/plain": [
       "Available line magics:\n",
       "%alias  %alias_magic  %autoawait  %autocall  %automagic  %autosave  %bookmark  %cat  %cd  %clear  %colors  %conda  %config  %connect_info  %cp  %debug  %dhist  %dirs  %doctest_mode  %ed  %edit  %env  %gui  %hist  %history  %killbgscripts  %ldir  %less  %lf  %lk  %ll  %load  %load_ext  %loadpy  %logoff  %logon  %logstart  %logstate  %logstop  %ls  %lsmagic  %lx  %macro  %magic  %man  %matplotlib  %mkdir  %more  %mv  %notebook  %page  %pastebin  %pdb  %pdef  %pdoc  %pfile  %pinfo  %pinfo2  %pip  %popd  %pprint  %precision  %prun  %psearch  %psource  %pushd  %pwd  %pycat  %pylab  %qtconsole  %quickref  %recall  %rehashx  %reload_ext  %rep  %rerun  %reset  %reset_selective  %rm  %rmdir  %run  %save  %sc  %set_env  %store  %sx  %system  %tb  %time  %timeit  %unalias  %unload_ext  %who  %who_ls  %whos  %xdel  %xmode\n",
       "\n",
       "Available cell magics:\n",
       "%%!  %%HTML  %%SVG  %%bash  %%capture  %%debug  %%file  %%html  %%javascript  %%js  %%latex  %%markdown  %%perl  %%prun  %%pypy  %%python  %%python2  %%python3  %%ruby  %%script  %%sh  %%svg  %%sx  %%system  %%time  %%timeit  %%writefile\n",
       "\n",
       "Automagic is ON, % prefix IS NOT needed for line magics."
      ]
     },
     "execution_count": 5,
     "metadata": {},
     "output_type": "execute_result"
    }
   ],
   "source": [
    "%lsmagic\n"
   ]
  },
  {
   "cell_type": "markdown",
   "id": "629aa938",
   "metadata": {},
   "source": [
    "### wichtige Line Magics\n",
    "* %matplotlib inline\n",
    "* %run myscript.py\tRuns an external script file as part of the cell being executed.\n",
    "* %timeit\tCounts loops, measures and reports how long a code cell takes to execute.\n",
    "* %writefile myscript.py\tSave the contents of a cell to a file.\n",
    "* %store\tSave a variable for use in a different notebook.\n",
    "* %pwd\tPrint the directory path you’re currently working in.\n",
    "* %automagic\n",
    "\n"
   ]
  },
  {
   "cell_type": "code",
   "execution_count": 6,
   "id": "10da82ed",
   "metadata": {},
   "outputs": [
    {
     "data": {
      "text/html": [
       "This is <em>really</em> neat!\n"
      ],
      "text/plain": [
       "<IPython.core.display.HTML object>"
      ]
     },
     "metadata": {},
     "output_type": "display_data"
    }
   ],
   "source": [
    "%%HTML\n",
    "This is <em>really</em> neat!"
   ]
  },
  {
   "cell_type": "markdown",
   "id": "e83152cf",
   "metadata": {},
   "source": [
    "### Logging\n"
   ]
  },
  {
   "cell_type": "code",
   "execution_count": 7,
   "id": "54990160",
   "metadata": {},
   "outputs": [
    {
     "name": "stderr",
     "output_type": "stream",
     "text": [
      "ERROR:root:This is an error message\n",
      "WARNING:root:a warning\n"
     ]
    },
    {
     "name": "stdout",
     "output_type": "stream",
     "text": [
      "printed statement\n"
     ]
    },
    {
     "data": {
      "text/plain": [
       "'a string'"
      ]
     },
     "execution_count": 7,
     "metadata": {},
     "output_type": "execute_result"
    }
   ],
   "source": [
    "import logging\n",
    "print('printed statement')\n",
    "logging.error('This is an error message')\n",
    "logging.warning('a warning')\n",
    "'a string'"
   ]
  },
  {
   "cell_type": "code",
   "execution_count": 8,
   "id": "186cf926",
   "metadata": {},
   "outputs": [
    {
     "name": "stderr",
     "output_type": "stream",
     "text": [
      "INFO:root:an information\n",
      "DEBUG:root:a debug message\n"
     ]
    }
   ],
   "source": [
    "logger = logging.getLogger()\n",
    "logger.setLevel(logging.DEBUG)\n",
    "logging.info('an information')\n",
    "logging.debug('a debug message')"
   ]
  },
  {
   "cell_type": "markdown",
   "id": "a5876e8a",
   "metadata": {},
   "source": [
    "Formatierung von Log-Messages anpassen geht auch:"
   ]
  },
  {
   "cell_type": "code",
   "execution_count": 9,
   "id": "6537f647",
   "metadata": {},
   "outputs": [
    {
     "name": "stderr",
     "output_type": "stream",
     "text": [
      "ERROR: an error\n",
      "WARNING: a warning\n",
      "INFO: an info\n"
     ]
    }
   ],
   "source": [
    "handler = logging.StreamHandler()\n",
    "handler.setLevel(logging.DEBUG)\n",
    "formatter = logging.Formatter('%(levelname)s: %(message)s')\n",
    "handler.setFormatter(formatter)\n",
    "\n",
    "# override the default handler\n",
    "logger.handlers = [handler]\n",
    "\n",
    "# demo\n",
    "logging.error('an error')\n",
    "logging.warning('a warning')\n",
    "logging.info('an info')"
   ]
  },
  {
   "cell_type": "markdown",
   "id": "9f3656f8",
   "metadata": {},
   "source": [
    "## Use Cases\n",
    "Ideensammler Use Cases für Notebooks\n",
    "* git Repo verwalten (das aktuelle Repo, in welchem die Notebooks liegen) mit commit, push, pull\n"
   ]
  }
 ],
 "metadata": {
  "kernelspec": {
   "display_name": "Python 3 (ipykernel)",
   "language": "python",
   "name": "python3"
  },
  "language_info": {
   "codemirror_mode": {
    "name": "ipython",
    "version": 3
   },
   "file_extension": ".py",
   "mimetype": "text/x-python",
   "name": "python",
   "nbconvert_exporter": "python",
   "pygments_lexer": "ipython3",
   "version": "3.9.12"
  }
 },
 "nbformat": 4,
 "nbformat_minor": 5
}
