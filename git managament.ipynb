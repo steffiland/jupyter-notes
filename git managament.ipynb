{
 "cells": [
  {
   "cell_type": "code",
   "execution_count": 5,
   "id": "3d7d8cf3",
   "metadata": {},
   "outputs": [
    {
     "name": "stdout",
     "output_type": "stream",
     "text": [
      "**/.ipynb_checkpoints\r\n",
      "**/.Trash*\r\n"
     ]
    }
   ],
   "source": [
    "!cat .gitignore"
   ]
  },
  {
   "cell_type": "code",
   "execution_count": 10,
   "id": "566be294",
   "metadata": {},
   "outputs": [
    {
     "name": "stdout",
     "output_type": "stream",
     "text": [
      "On branch main\r\n",
      "Changes to be committed:\r\n",
      "  (use \"git restore --staged <file>...\" to unstage)\r\n",
      "\t\u001b[32mmodified:   git managament.ipynb\u001b[m\r\n",
      "\r\n"
     ]
    }
   ],
   "source": [
    "!git status"
   ]
  },
  {
   "cell_type": "code",
   "execution_count": 11,
   "id": "e365ab1c",
   "metadata": {},
   "outputs": [],
   "source": [
    "!git diff"
   ]
  },
  {
   "cell_type": "code",
   "execution_count": 9,
   "id": "f5e63126",
   "metadata": {},
   "outputs": [],
   "source": [
    "!git add ."
   ]
  },
  {
   "cell_type": "markdown",
   "id": "133795e9",
   "metadata": {},
   "source": [
    "Neues Git Repo initialisieren:"
   ]
  },
  {
   "cell_type": "code",
   "execution_count": 2,
   "id": "65e69788",
   "metadata": {},
   "outputs": [
    {
     "name": "stdout",
     "output_type": "stream",
     "text": [
      "Reinitialized existing Git repository in /home/jup/notebooks/.git/\r\n"
     ]
    }
   ],
   "source": [
    "!git init\n",
    "!git branch -m main"
   ]
  },
  {
   "cell_type": "code",
   "execution_count": 13,
   "id": "b6ff96eb",
   "metadata": {},
   "outputs": [
    {
     "name": "stdout",
     "output_type": "stream",
     "text": [
      "[main (root-commit) 1dd66c6] initial commit\r\n",
      " 3 files changed, 633 insertions(+)\r\n",
      " create mode 100644 .gitignore\r\n",
      " create mode 100644 demos/Introduction.ipynb\r\n",
      " create mode 100644 git managament.ipynb\r\n"
     ]
    }
   ],
   "source": [
    "!git commit -m 'initial commit'"
   ]
  }
 ],
 "metadata": {
  "kernelspec": {
   "display_name": "Python 3 (ipykernel)",
   "language": "python",
   "name": "python3"
  },
  "language_info": {
   "codemirror_mode": {
    "name": "ipython",
    "version": 3
   },
   "file_extension": ".py",
   "mimetype": "text/x-python",
   "name": "python",
   "nbconvert_exporter": "python",
   "pygments_lexer": "ipython3",
   "version": "3.9.12"
  }
 },
 "nbformat": 4,
 "nbformat_minor": 5
}
